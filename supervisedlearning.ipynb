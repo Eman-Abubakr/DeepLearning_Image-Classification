{
  "nbformat": 4,
  "nbformat_minor": 0,
  "metadata": {
    "colab": {
      "provenance": [],
      "machine_shape": "hm",
      "gpuType": "T4"
    },
    "kernelspec": {
      "name": "python3",
      "display_name": "Python 3"
    },
    "language_info": {
      "name": "python"
    },
    "accelerator": "GPU"
  },
  "cells": [
    {
      "cell_type": "markdown",
      "source": [
        "Loading the dataset through Kaggle"
      ],
      "metadata": {
        "id": "rHmrbbh32AWt"
      }
    },
    {
      "cell_type": "code",
      "execution_count": 2,
      "metadata": {
        "id": "Iy2_09q9Zy4w",
        "colab": {
          "base_uri": "https://localhost:8080/"
        },
        "outputId": "b5c4bbf6-1603-4caa-90fe-ba0bfe3910ad"
      },
      "outputs": [
        {
          "output_type": "stream",
          "name": "stdout",
          "text": [
            "Warning: Your Kaggle API key is readable by other users on this system! To fix this, you can run 'chmod 600 /root/.kaggle/kaggle.json'\n",
            "Downloading 100-bird-species.zip to /content\n",
            " 99% 1.93G/1.96G [00:12<00:00, 224MB/s]\n",
            "100% 1.96G/1.96G [00:12<00:00, 163MB/s]\n"
          ]
        }
      ],
      "source": [
        "!mkdir -p ~/.kaggle\n",
        "!cp kaggle.json ~/.kaggle/\n",
        "\n",
        "!kaggle datasets download -d gpiosenka/100-bird-species\n",
        "\n",
        "import zipfile\n",
        "zip_ref = zipfile.ZipFile('/content/100-bird-species.zip', 'r')\n",
        "zip_ref.extractall('/data')\n",
        "zip_ref.close()"
      ]
    },
    {
      "cell_type": "markdown",
      "source": [
        "*   setting up data directory path\n",
        "*   standarizing image size to fit EffiencieNetB0 default size(original EffienceNEt model is trained on this size)\n",
        "*   batch-size = 32(standard) wondering if we do bigger for faster training (?)\n",
        "\n",
        "\n"
      ],
      "metadata": {
        "id": "dIZtUpAP2yJ3"
      }
    },
    {
      "cell_type": "code",
      "source": [
        "import os\n",
        "import zipfile\n",
        "import numpy as np\n",
        "import matplotlib.pyplot as plt\n",
        "from tensorflow.keras.preprocessing.image import ImageDataGenerator\n",
        "from tensorflow.keras.applications import EfficientNetB0\n",
        "from tensorflow.keras.applications.efficientnet import preprocess_input\n",
        "from tensorflow.keras.layers import GlobalAveragePooling2D, Dense, Dropout\n",
        "from tensorflow.keras.models import Model\n",
        "from tensorflow.keras.optimizers import Adam\n",
        "from tensorflow.keras.callbacks import EarlyStopping\n",
        "\n",
        "data_dir = '/data'\n",
        "img_size = 224\n",
        "batch_size = 32\n"
      ],
      "metadata": {
        "id": "C3ftRheIj_aW"
      },
      "execution_count": 3,
      "outputs": []
    },
    {
      "cell_type": "markdown",
      "source": [
        "data preprocessing and augmentation\n",
        "*   data augmentation: improves ability to generalize\n",
        "*   flow_from_directory: generates batches of augmented data from images in a directory\n"
      ],
      "metadata": {
        "id": "_9VvYDtA33CV"
      }
    },
    {
      "cell_type": "code",
      "source": [
        "train_datagen = ImageDataGenerator(\n",
        "    preprocessing_function=preprocess_input,\n",
        "    rotation_range=20,\n",
        "    width_shift_range=0.2,\n",
        "    height_shift_range=0.2,\n",
        "    shear_range=0.2,\n",
        "    zoom_range=0.2,\n",
        "    horizontal_flip=True,\n",
        "    fill_mode='nearest',\n",
        "    validation_split=0.2\n",
        ")\n",
        "\n",
        "val_datagen = ImageDataGenerator(\n",
        "    preprocessing_function=preprocess_input,\n",
        "    validation_split=0.2\n",
        ")\n",
        "\n",
        "train_generator = train_datagen.flow_from_directory(\n",
        "    os.path.join(data_dir, 'train'),\n",
        "    target_size=(img_size, img_size),\n",
        "    batch_size=batch_size,\n",
        "    class_mode='categorical',\n",
        "    subset='training'\n",
        ")\n",
        "\n",
        "val_generator = val_datagen.flow_from_directory(\n",
        "    os.path.join(data_dir, 'train'),\n",
        "    target_size=(img_size, img_size),\n",
        "    batch_size=batch_size,\n",
        "    class_mode='categorical',\n",
        "    subset='validation'\n",
        ")\n"
      ],
      "metadata": {
        "colab": {
          "base_uri": "https://localhost:8080/"
        },
        "id": "8vtfDDFjdo8X",
        "outputId": "47e96c13-e151-42d6-87dd-08994d30c26f"
      },
      "execution_count": 4,
      "outputs": [
        {
          "output_type": "stream",
          "name": "stdout",
          "text": [
            "Found 67911 images belonging to 525 classes.\n",
            "Found 16724 images belonging to 525 classes.\n"
          ]
        }
      ]
    },
    {
      "cell_type": "markdown",
      "source": [
        "Setting up transfer learning with EfficientNet architecture"
      ],
      "metadata": {
        "id": "wcZGpoTQ5sT7"
      }
    },
    {
      "cell_type": "code",
      "source": [
        "base_model = EfficientNetB0(weights='imagenet', include_top=False, input_shape=(img_size, img_size, 3))\n",
        "base_model.trainable = False\n"
      ],
      "metadata": {
        "id": "a85Pstri4BSC",
        "colab": {
          "base_uri": "https://localhost:8080/"
        },
        "outputId": "b8c0ac39-bd11-4bca-95ce-af840e96374d"
      },
      "execution_count": 5,
      "outputs": [
        {
          "output_type": "stream",
          "name": "stdout",
          "text": [
            "Downloading data from https://storage.googleapis.com/keras-applications/efficientnetb0_notop.h5\n",
            "16705208/16705208 [==============================] - 0s 0us/step\n"
          ]
        }
      ]
    },
    {
      "cell_type": "markdown",
      "source": [
        "Building and compiling model with pre-trained model as base and\n",
        "set up early stopping to prevent overfitting"
      ],
      "metadata": {
        "id": "PKZ1uEN-6Adc"
      }
    },
    {
      "cell_type": "code",
      "source": [
        "x = GlobalAveragePooling2D()(base_model.output)\n",
        "x = Dense(1024, activation='relu')(x)\n",
        "x = Dropout(0.5)(x)\n",
        "output = Dense(train_generator.num_classes, activation='softmax')(x)\n",
        "\n",
        "\n",
        "model = Model(inputs=base_model.input, outputs=output)\n",
        "\n",
        "model.compile(optimizer=Adam(learning_rate=0.001), loss='categorical_crossentropy', metrics=['accuracy'])\n",
        "\n",
        "early_stopping = EarlyStopping(\n",
        "    monitor='val_loss',\n",
        "    patience=5,\n",
        "    restore_best_weights=True\n",
        ")"
      ],
      "metadata": {
        "id": "i44m165Ldzoi"
      },
      "execution_count": 6,
      "outputs": []
    },
    {
      "cell_type": "markdown",
      "source": [
        "Model training"
      ],
      "metadata": {
        "id": "ltPvYFC96wXw"
      }
    },
    {
      "cell_type": "code",
      "source": [
        "epochs = 10\n",
        "history = model.fit(\n",
        "    train_generator,\n",
        "    epochs=epochs,\n",
        "    validation_data=val_generator,\n",
        "    callbacks=[early_stopping]\n",
        ")\n",
        "model.save('/my_model.h5')\n",
        "model.save('/my_model')"
      ],
      "metadata": {
        "colab": {
          "base_uri": "https://localhost:8080/"
        },
        "id": "iwgh8bwYd6mQ",
        "outputId": "86f59184-715e-4b35-f197-ece20f681098"
      },
      "execution_count": 7,
      "outputs": [
        {
          "output_type": "stream",
          "name": "stdout",
          "text": [
            "Epoch 1/10\n",
            "2123/2123 [==============================] - 906s 421ms/step - loss: 1.6935 - accuracy: 0.6021 - val_loss: 0.5846 - val_accuracy: 0.8398\n",
            "Epoch 2/10\n",
            "2123/2123 [==============================] - 881s 415ms/step - loss: 0.9015 - accuracy: 0.7634 - val_loss: 0.4996 - val_accuracy: 0.8696\n",
            "Epoch 3/10\n",
            "2123/2123 [==============================] - 889s 419ms/step - loss: 0.7881 - accuracy: 0.7939 - val_loss: 0.4727 - val_accuracy: 0.8796\n",
            "Epoch 4/10\n",
            "2123/2123 [==============================] - 873s 411ms/step - loss: 0.7344 - accuracy: 0.8073 - val_loss: 0.4581 - val_accuracy: 0.8896\n",
            "Epoch 5/10\n",
            "2123/2123 [==============================] - 884s 416ms/step - loss: 0.6955 - accuracy: 0.8207 - val_loss: 0.4741 - val_accuracy: 0.8897\n",
            "Epoch 6/10\n",
            "2123/2123 [==============================] - 888s 418ms/step - loss: 0.6664 - accuracy: 0.8288 - val_loss: 0.4787 - val_accuracy: 0.8943\n",
            "Epoch 7/10\n",
            "2123/2123 [==============================] - 886s 417ms/step - loss: 0.6524 - accuracy: 0.8341 - val_loss: 0.4814 - val_accuracy: 0.8954\n",
            "Epoch 8/10\n",
            "2123/2123 [==============================] - 872s 411ms/step - loss: 0.6375 - accuracy: 0.8392 - val_loss: 0.4884 - val_accuracy: 0.9001\n",
            "Epoch 9/10\n",
            "2123/2123 [==============================] - 887s 417ms/step - loss: 0.6240 - accuracy: 0.8424 - val_loss: 0.5153 - val_accuracy: 0.8999\n"
          ]
        },
        {
          "output_type": "stream",
          "name": "stderr",
          "text": [
            "/usr/local/lib/python3.10/dist-packages/keras/src/engine/training.py:3103: UserWarning: You are saving your model as an HDF5 file via `model.save()`. This file format is considered legacy. We recommend using instead the native Keras format, e.g. `model.save('my_model.keras')`.\n",
            "  saving_api.save_model(\n"
          ]
        }
      ]
    },
    {
      "cell_type": "markdown",
      "source": [
        "MODEL EVALUATION"
      ],
      "metadata": {
        "id": "E3yxnYseeGTb"
      }
    },
    {
      "cell_type": "code",
      "source": [
        "from google.colab import drive\n",
        "drive.mount('/content/drive')\n"
      ],
      "metadata": {
        "colab": {
          "base_uri": "https://localhost:8080/"
        },
        "id": "6oeVQBHeAsw5",
        "outputId": "49e5cd08-be67-47fd-e416-e87a5cbc28e3"
      },
      "execution_count": 10,
      "outputs": [
        {
          "output_type": "stream",
          "name": "stdout",
          "text": [
            "Mounted at /content/drive\n"
          ]
        }
      ]
    },
    {
      "cell_type": "code",
      "source": [
        "model_save_path = '/content/drive/My Drive/my_model.keras'\n",
        "model.save(model_save_path)\n"
      ],
      "metadata": {
        "id": "1RRD1Y2UBaF1"
      },
      "execution_count": 11,
      "outputs": []
    },
    {
      "cell_type": "code",
      "source": [
        "from google.colab import files\n",
        "files.download('/my_model.keras')\n"
      ],
      "metadata": {
        "colab": {
          "base_uri": "https://localhost:8080/",
          "height": 17
        },
        "id": "AvoWhwqnBiWT",
        "outputId": "6ded695b-f338-415f-ac63-f27a1794d9d8"
      },
      "execution_count": 12,
      "outputs": [
        {
          "output_type": "display_data",
          "data": {
            "text/plain": [
              "<IPython.core.display.Javascript object>"
            ],
            "application/javascript": [
              "\n",
              "    async function download(id, filename, size) {\n",
              "      if (!google.colab.kernel.accessAllowed) {\n",
              "        return;\n",
              "      }\n",
              "      const div = document.createElement('div');\n",
              "      const label = document.createElement('label');\n",
              "      label.textContent = `Downloading \"${filename}\": `;\n",
              "      div.appendChild(label);\n",
              "      const progress = document.createElement('progress');\n",
              "      progress.max = size;\n",
              "      div.appendChild(progress);\n",
              "      document.body.appendChild(div);\n",
              "\n",
              "      const buffers = [];\n",
              "      let downloaded = 0;\n",
              "\n",
              "      const channel = await google.colab.kernel.comms.open(id);\n",
              "      // Send a message to notify the kernel that we're ready.\n",
              "      channel.send({})\n",
              "\n",
              "      for await (const message of channel.messages) {\n",
              "        // Send a message to notify the kernel that we're ready.\n",
              "        channel.send({})\n",
              "        if (message.buffers) {\n",
              "          for (const buffer of message.buffers) {\n",
              "            buffers.push(buffer);\n",
              "            downloaded += buffer.byteLength;\n",
              "            progress.value = downloaded;\n",
              "          }\n",
              "        }\n",
              "      }\n",
              "      const blob = new Blob(buffers, {type: 'application/binary'});\n",
              "      const a = document.createElement('a');\n",
              "      a.href = window.URL.createObjectURL(blob);\n",
              "      a.download = filename;\n",
              "      div.appendChild(a);\n",
              "      a.click();\n",
              "      div.remove();\n",
              "    }\n",
              "  "
            ]
          },
          "metadata": {}
        },
        {
          "output_type": "display_data",
          "data": {
            "text/plain": [
              "<IPython.core.display.Javascript object>"
            ],
            "application/javascript": [
              "download(\"download_7ca7c734-f2d2-4a96-afff-f17dda1578e9\", \"my_model.keras\", 39148340)"
            ]
          },
          "metadata": {}
        }
      ]
    },
    {
      "cell_type": "code",
      "source": [
        "test_datagen = ImageDataGenerator(preprocessing_function=preprocess_input)\n",
        "\n",
        "test_generator = test_datagen.flow_from_directory(\n",
        "    os.path.join(data_dir, 'test'),\n",
        "    target_size=(img_size, img_size),\n",
        "    batch_size=batch_size,\n",
        "    class_mode='categorical',\n",
        "    shuffle=False)"
      ],
      "metadata": {
        "colab": {
          "base_uri": "https://localhost:8080/"
        },
        "id": "QaOH9S2qmTRn",
        "outputId": "1ceaa3eb-1407-4f53-a483-230462165558"
      },
      "execution_count": 13,
      "outputs": [
        {
          "output_type": "stream",
          "name": "stdout",
          "text": [
            "Found 2625 images belonging to 525 classes.\n"
          ]
        }
      ]
    },
    {
      "cell_type": "markdown",
      "source": [
        "Model Evaluation"
      ],
      "metadata": {
        "id": "6DxxTD3hG0Zz"
      }
    },
    {
      "cell_type": "code",
      "source": [
        "predictions = model.predict(test_generator, verbose=1)\n",
        "predicted_classes = np.argmax(predictions, axis=1)\n",
        "true_classes = test_generator.classes\n",
        "class_labels = list(test_generator.class_indices.keys())\n",
        "\n",
        "from sklearn.metrics import classification_report\n",
        "print(classification_report(true_classes, predicted_classes, target_names=class_labels))\n",
        "\n",
        "\n",
        "# from sklearn.metrics import confusion_matrix\n",
        "# import seaborn as sns\n",
        "\n",
        "# conf_matrix = confusion_matrix(true_classes, predicted_classes)\n",
        "# plt.figure(figsize=(20, 20))\n",
        "# sns.heatmap(conf_matrix, annot=True, fmt='d', cmap='Blues', xticklabels=class_labels, yticklabels=class_labels)\n",
        "# plt.title('Confusion Matrix')\n",
        "# plt.ylabel('True Class')\n",
        "# plt.xlabel('Predicted Class')\n",
        "# plt.show()\n"
      ],
      "metadata": {
        "id": "MfeuhpO14Gpt",
        "colab": {
          "base_uri": "https://localhost:8080/"
        },
        "outputId": "9a4225bf-4395-4357-c51e-e1c749dba2a0"
      },
      "execution_count": 17,
      "outputs": [
        {
          "output_type": "stream",
          "name": "stdout",
          "text": [
            "83/83 [==============================] - 5s 60ms/step\n",
            "                               precision    recall  f1-score   support\n",
            "\n",
            "              ABBOTTS BABBLER       1.00      0.40      0.57         5\n",
            "                ABBOTTS BOOBY       1.00      0.20      0.33         5\n",
            "   ABYSSINIAN GROUND HORNBILL       1.00      1.00      1.00         5\n",
            "        AFRICAN CROWNED CRANE       1.00      1.00      1.00         5\n",
            "       AFRICAN EMERALD CUCKOO       1.00      0.80      0.89         5\n",
            "            AFRICAN FIREFINCH       1.00      1.00      1.00         5\n",
            "       AFRICAN OYSTER CATCHER       1.00      1.00      1.00         5\n",
            "        AFRICAN PIED HORNBILL       1.00      0.60      0.75         5\n",
            "          AFRICAN PYGMY GOOSE       1.00      1.00      1.00         5\n",
            "                    ALBATROSS       0.71      1.00      0.83         5\n",
            "               ALBERTS TOWHEE       1.00      1.00      1.00         5\n",
            "         ALEXANDRINE PARAKEET       1.00      1.00      1.00         5\n",
            "                ALPINE CHOUGH       1.00      1.00      1.00         5\n",
            "        ALTAMIRA YELLOWTHROAT       1.00      0.60      0.75         5\n",
            "              AMERICAN AVOCET       1.00      1.00      1.00         5\n",
            "             AMERICAN BITTERN       1.00      1.00      1.00         5\n",
            "                AMERICAN COOT       1.00      0.80      0.89         5\n",
            "              AMERICAN DIPPER       1.00      1.00      1.00         5\n",
            "            AMERICAN FLAMINGO       1.00      1.00      1.00         5\n",
            "           AMERICAN GOLDFINCH       1.00      1.00      1.00         5\n",
            "             AMERICAN KESTREL       1.00      1.00      1.00         5\n",
            "               AMERICAN PIPIT       0.83      1.00      0.91         5\n",
            "            AMERICAN REDSTART       1.00      0.80      0.89         5\n",
            "               AMERICAN ROBIN       0.83      1.00      0.91         5\n",
            "              AMERICAN WIGEON       1.00      0.20      0.33         5\n",
            "            AMETHYST WOODSTAR       0.75      0.60      0.67         5\n",
            "                 ANDEAN GOOSE       1.00      0.80      0.89         5\n",
            "               ANDEAN LAPWING       0.80      0.80      0.80         5\n",
            "                ANDEAN SISKIN       0.83      1.00      0.91         5\n",
            "                      ANHINGA       1.00      1.00      1.00         5\n",
            "                     ANIANIAU       0.80      0.80      0.80         5\n",
            "            ANNAS HUMMINGBIRD       0.56      1.00      0.71         5\n",
            "                      ANTBIRD       1.00      0.80      0.89         5\n",
            "           ANTILLEAN EUPHONIA       1.00      1.00      1.00         5\n",
            "                      APAPANE       1.00      1.00      1.00         5\n",
            "                  APOSTLEBIRD       0.83      1.00      0.91         5\n",
            "              ARARIPE MANAKIN       1.00      1.00      1.00         5\n",
            "            ASHY STORM PETREL       1.00      0.40      0.57         5\n",
            "              ASHY THRUSHBIRD       0.80      0.80      0.80         5\n",
            "           ASIAN CRESTED IBIS       1.00      1.00      1.00         5\n",
            "           ASIAN DOLLARD BIRD       1.00      1.00      1.00         5\n",
            "        ASIAN GREEN BEE EATER       1.00      1.00      1.00         5\n",
            "         ASIAN OPENBILL STORK       0.83      1.00      0.91         5\n",
            "                AUCKLAND SHAQ       1.00      1.00      1.00         5\n",
            "            AUSTRAL CANASTERO       0.75      0.60      0.67         5\n",
            "         AUSTRALASIAN FIGBIRD       1.00      1.00      1.00         5\n",
            "                     AVADAVAT       1.00      0.80      0.89         5\n",
            "             AZARAS SPINETAIL       1.00      1.00      1.00         5\n",
            "         AZURE BREASTED PITTA       1.00      1.00      1.00         5\n",
            "                    AZURE JAY       1.00      1.00      1.00         5\n",
            "                AZURE TANAGER       1.00      1.00      1.00         5\n",
            "                    AZURE TIT       1.00      0.80      0.89         5\n",
            "                  BAIKAL TEAL       1.00      1.00      1.00         5\n",
            "                   BALD EAGLE       0.83      1.00      0.91         5\n",
            "                    BALD IBIS       0.83      1.00      0.91         5\n",
            "                BALI STARLING       0.83      1.00      0.91         5\n",
            "             BALTIMORE ORIOLE       1.00      0.80      0.89         5\n",
            "                   BANANAQUIT       1.00      1.00      1.00         5\n",
            "             BAND TAILED GUAN       1.00      0.80      0.89         5\n",
            "             BANDED BROADBILL       1.00      1.00      1.00         5\n",
            "                  BANDED PITA       1.00      1.00      1.00         5\n",
            "                 BANDED STILT       1.00      1.00      1.00         5\n",
            "            BAR-TAILED GODWIT       1.00      1.00      1.00         5\n",
            "                     BARN OWL       1.00      1.00      1.00         5\n",
            "                 BARN SWALLOW       1.00      1.00      1.00         5\n",
            "              BARRED PUFFBIRD       0.83      1.00      0.91         5\n",
            "            BARROWS GOLDENEYE       1.00      1.00      1.00         5\n",
            "         BAY-BREASTED WARBLER       1.00      1.00      1.00         5\n",
            "               BEARDED BARBET       1.00      1.00      1.00         5\n",
            "             BEARDED BELLBIRD       1.00      1.00      1.00         5\n",
            "             BEARDED REEDLING       1.00      1.00      1.00         5\n",
            "            BELTED KINGFISHER       1.00      1.00      1.00         5\n",
            "             BIRD OF PARADISE       1.00      1.00      1.00         5\n",
            "   BLACK AND YELLOW BROADBILL       1.00      1.00      1.00         5\n",
            "                   BLACK BAZA       1.00      1.00      1.00         5\n",
            "      BLACK BREASTED PUFFBIRD       1.00      1.00      1.00         5\n",
            "                BLACK COCKATO       1.00      1.00      1.00         5\n",
            "        BLACK FACED SPOONBILL       1.00      1.00      1.00         5\n",
            "              BLACK FRANCOLIN       0.57      0.80      0.67         5\n",
            "          BLACK HEADED CAIQUE       1.00      1.00      1.00         5\n",
            "           BLACK NECKED STILT       1.00      0.80      0.89         5\n",
            "                BLACK SKIMMER       1.00      0.80      0.89         5\n",
            "                   BLACK SWAN       1.00      1.00      1.00         5\n",
            "             BLACK TAIL CRAKE       0.83      1.00      0.91         5\n",
            "       BLACK THROATED BUSHTIT       1.00      1.00      1.00         5\n",
            "          BLACK THROATED HUET       0.80      0.80      0.80         5\n",
            "       BLACK THROATED WARBLER       1.00      1.00      1.00         5\n",
            "      BLACK VENTED SHEARWATER       1.00      0.40      0.57         5\n",
            "                BLACK VULTURE       1.00      1.00      1.00         5\n",
            "       BLACK-CAPPED CHICKADEE       1.00      1.00      1.00         5\n",
            "           BLACK-NECKED GREBE       0.83      1.00      0.91         5\n",
            "       BLACK-THROATED SPARROW       0.56      1.00      0.71         5\n",
            "         BLACKBURNIAM WARBLER       1.00      1.00      1.00         5\n",
            "    BLONDE CRESTED WOODPECKER       1.00      1.00      1.00         5\n",
            "               BLOOD PHEASANT       1.00      1.00      1.00         5\n",
            "                    BLUE COAU       1.00      0.80      0.89         5\n",
            "                  BLUE DACNIS       1.00      0.80      0.89         5\n",
            "        BLUE GRAY GNATCATCHER       1.00      0.80      0.89         5\n",
            "                BLUE GROSBEAK       1.00      1.00      1.00         5\n",
            "                  BLUE GROUSE       0.83      1.00      0.91         5\n",
            "                   BLUE HERON       1.00      1.00      1.00         5\n",
            "                 BLUE MALKOHA       1.00      0.80      0.89         5\n",
            "    BLUE THROATED PIPING GUAN       1.00      1.00      1.00         5\n",
            "       BLUE THROATED TOUCANET       1.00      1.00      1.00         5\n",
            "                     BOBOLINK       0.83      1.00      0.91         5\n",
            "          BORNEAN BRISTLEHEAD       1.00      1.00      1.00         5\n",
            "             BORNEAN LEAFBIRD       1.00      0.80      0.89         5\n",
            "             BORNEAN PHEASANT       0.83      1.00      0.91         5\n",
            "             BRANDT CORMARANT       1.00      1.00      1.00         5\n",
            "            BREWERS BLACKBIRD       0.71      1.00      0.83         5\n",
            "                BROWN CREPPER       1.00      0.80      0.89         5\n",
            "         BROWN HEADED COWBIRD       1.00      0.80      0.89         5\n",
            "                  BROWN NOODY       0.83      1.00      0.91         5\n",
            "               BROWN THRASHER       1.00      1.00      1.00         5\n",
            "                   BUFFLEHEAD       1.00      0.60      0.75         5\n",
            "             BULWERS PHEASANT       1.00      1.00      1.00         5\n",
            "            BURCHELLS COURSER       1.00      1.00      1.00         5\n",
            "                  BUSH TURKEY       1.00      1.00      1.00         5\n",
            "           CAATINGA CACHOLOTE       1.00      1.00      1.00         5\n",
            "              CABOTS TRAGOPAN       1.00      1.00      1.00         5\n",
            "                  CACTUS WREN       1.00      1.00      1.00         5\n",
            "            CALIFORNIA CONDOR       1.00      1.00      1.00         5\n",
            "              CALIFORNIA GULL       0.83      1.00      0.91         5\n",
            "             CALIFORNIA QUAIL       0.83      1.00      0.91         5\n",
            "                CAMPO FLICKER       1.00      1.00      1.00         5\n",
            "                       CANARY       1.00      0.80      0.89         5\n",
            "                   CANVASBACK       1.00      1.00      1.00         5\n",
            "         CAPE GLOSSY STARLING       1.00      1.00      1.00         5\n",
            "                CAPE LONGCLAW       1.00      1.00      1.00         5\n",
            "             CAPE MAY WARBLER       1.00      1.00      1.00         5\n",
            "             CAPE ROCK THRUSH       1.00      1.00      1.00         5\n",
            "                 CAPPED HERON       1.00      1.00      1.00         5\n",
            "                 CAPUCHINBIRD       0.83      1.00      0.91         5\n",
            "            CARMINE BEE-EATER       1.00      1.00      1.00         5\n",
            "                 CASPIAN TERN       0.83      1.00      0.91         5\n",
            "                    CASSOWARY       1.00      1.00      1.00         5\n",
            "                CEDAR WAXWING       1.00      1.00      1.00         5\n",
            "             CERULEAN WARBLER       1.00      1.00      1.00         5\n",
            "              CHARA DE COLLAR       0.71      1.00      0.83         5\n",
            "              CHATTERING LORY       1.00      1.00      1.00         5\n",
            "    CHESTNET BELLIED EUPHONIA       0.62      1.00      0.77         5\n",
            "       CHESTNUT WINGED CUCKOO       1.00      1.00      1.00         5\n",
            "     CHINESE BAMBOO PARTRIDGE       0.71      1.00      0.83         5\n",
            "           CHINESE POND HERON       1.00      1.00      1.00         5\n",
            "             CHIPPING SPARROW       0.83      1.00      0.91         5\n",
            "              CHUCAO TAPACULO       1.00      1.00      1.00         5\n",
            "             CHUKAR PARTRIDGE       1.00      1.00      1.00         5\n",
            "              CINNAMON ATTILA       0.83      1.00      0.91         5\n",
            "          CINNAMON FLYCATCHER       1.00      0.80      0.89         5\n",
            "                CINNAMON TEAL       1.00      1.00      1.00         5\n",
            "                 CLARKS GREBE       1.00      0.80      0.89         5\n",
            "            CLARKS NUTCRACKER       1.00      1.00      1.00         5\n",
            "            COCK OF THE  ROCK       1.00      1.00      1.00         5\n",
            "                     COCKATOO       1.00      1.00      1.00         5\n",
            "             COLLARED ARACARI       1.00      1.00      1.00         5\n",
            "       COLLARED CRESCENTCHEST       1.00      1.00      1.00         5\n",
            "             COMMON FIRECREST       1.00      1.00      1.00         5\n",
            "               COMMON GRACKLE       1.00      1.00      1.00         5\n",
            "          COMMON HOUSE MARTIN       1.00      1.00      1.00         5\n",
            "                  COMMON IORA       0.71      1.00      0.83         5\n",
            "                  COMMON LOON       1.00      1.00      1.00         5\n",
            "              COMMON POORWILL       0.71      1.00      0.83         5\n",
            "              COMMON STARLING       1.00      1.00      1.00         5\n",
            "           COPPERSMITH BARBET       1.00      1.00      1.00         5\n",
            "        COPPERY TAILED COUCAL       1.00      1.00      1.00         5\n",
            "                  CRAB PLOVER       1.00      1.00      1.00         5\n",
            "                   CRANE HAWK       1.00      1.00      1.00         5\n",
            "     CREAM COLORED WOODPECKER       1.00      1.00      1.00         5\n",
            "               CRESTED AUKLET       1.00      1.00      1.00         5\n",
            "             CRESTED CARACARA       1.00      1.00      1.00         5\n",
            "                 CRESTED COUA       1.00      1.00      1.00         5\n",
            "             CRESTED FIREBACK       1.00      1.00      1.00         5\n",
            "           CRESTED KINGFISHER       1.00      1.00      1.00         5\n",
            "             CRESTED NUTHATCH       1.00      1.00      1.00         5\n",
            "           CRESTED OROPENDOLA       1.00      1.00      1.00         5\n",
            "        CRESTED SERPENT EAGLE       1.00      0.80      0.89         5\n",
            "            CRESTED SHRIKETIT       1.00      1.00      1.00         5\n",
            "       CRESTED WOOD PARTRIDGE       1.00      1.00      1.00         5\n",
            "                 CRIMSON CHAT       1.00      0.80      0.89         5\n",
            "              CRIMSON SUNBIRD       1.00      1.00      1.00         5\n",
            "                         CROW       1.00      1.00      1.00         5\n",
            "                   CUBAN TODY       1.00      1.00      1.00         5\n",
            "                 CUBAN TROGON       1.00      1.00      1.00         5\n",
            "         CURL CRESTED ARACURI       1.00      1.00      1.00         5\n",
            "             D-ARNAUDS BARBET       1.00      1.00      1.00         5\n",
            "            DALMATIAN PELICAN       1.00      1.00      1.00         5\n",
            "        DARJEELING WOODPECKER       1.00      1.00      1.00         5\n",
            "              DARK EYED JUNCO       1.00      1.00      1.00         5\n",
            "             DAURIAN REDSTART       0.62      1.00      0.77         5\n",
            "             DEMOISELLE CRANE       1.00      1.00      1.00         5\n",
            "          DOUBLE BARRED FINCH       1.00      1.00      1.00         5\n",
            "     DOUBLE BRESTED CORMARANT       1.00      0.80      0.89         5\n",
            "       DOUBLE EYED FIG PARROT       1.00      1.00      1.00         5\n",
            "             DOWNY WOODPECKER       0.83      1.00      0.91         5\n",
            "                       DUNLIN       0.83      1.00      0.91         5\n",
            "                   DUSKY LORY       1.00      1.00      1.00         5\n",
            "                  DUSKY ROBIN       1.00      0.40      0.57         5\n",
            "                   EARED PITA       1.00      1.00      1.00         5\n",
            "             EASTERN BLUEBIRD       0.83      1.00      0.91         5\n",
            "           EASTERN BLUEBONNET       1.00      0.80      0.89         5\n",
            "        EASTERN GOLDEN WEAVER       1.00      1.00      1.00         5\n",
            "           EASTERN MEADOWLARK       1.00      1.00      1.00         5\n",
            "              EASTERN ROSELLA       1.00      1.00      1.00         5\n",
            "                EASTERN TOWEE       0.83      1.00      0.91         5\n",
            "        EASTERN WIP POOR WILL       1.00      0.80      0.89         5\n",
            "         EASTERN YELLOW ROBIN       0.62      1.00      0.77         5\n",
            "          ECUADORIAN HILLSTAR       1.00      1.00      1.00         5\n",
            "               EGYPTIAN GOOSE       1.00      1.00      1.00         5\n",
            "               ELEGANT TROGON       0.83      1.00      0.91         5\n",
            "            ELLIOTS  PHEASANT       1.00      1.00      1.00         5\n",
            "              EMERALD TANAGER       1.00      1.00      1.00         5\n",
            "              EMPEROR PENGUIN       0.83      1.00      0.91         5\n",
            "                          EMU       1.00      1.00      1.00         5\n",
            "                 ENGGANO MYNA       1.00      1.00      1.00         5\n",
            "           EURASIAN BULLFINCH       1.00      0.80      0.89         5\n",
            "       EURASIAN GOLDEN ORIOLE       1.00      1.00      1.00         5\n",
            "              EURASIAN MAGPIE       1.00      1.00      1.00         5\n",
            "           EUROPEAN GOLDFINCH       1.00      0.80      0.89         5\n",
            "         EUROPEAN TURTLE DOVE       1.00      1.00      1.00         5\n",
            "             EVENING GROSBEAK       0.83      1.00      0.91         5\n",
            "               FAIRY BLUEBIRD       1.00      1.00      1.00         5\n",
            "                FAIRY PENGUIN       1.00      1.00      1.00         5\n",
            "                   FAIRY TERN       0.50      0.80      0.62         5\n",
            "             FAN TAILED WIDOW       1.00      0.20      0.33         5\n",
            "               FASCIATED WREN       0.83      1.00      0.91         5\n",
            "                FIERY MINIVET       1.00      0.80      0.89         5\n",
            "            FIORDLAND PENGUIN       1.00      0.80      0.89         5\n",
            "        FIRE TAILLED MYZORNIS       1.00      1.00      1.00         5\n",
            "              FLAME BOWERBIRD       1.00      1.00      1.00         5\n",
            "                FLAME TANAGER       1.00      1.00      1.00         5\n",
            "               FOREST WAGTAIL       1.00      0.80      0.89         5\n",
            "                      FRIGATE       1.00      1.00      1.00         5\n",
            "            FRILL BACK PIGEON       1.00      1.00      1.00         5\n",
            "                GAMBELS QUAIL       1.00      0.80      0.89         5\n",
            "           GANG GANG COCKATOO       1.00      1.00      1.00         5\n",
            "              GILA WOODPECKER       1.00      1.00      1.00         5\n",
            "               GILDED FLICKER       1.00      0.60      0.75         5\n",
            "                  GLOSSY IBIS       1.00      1.00      1.00         5\n",
            "                 GO AWAY BIRD       1.00      1.00      1.00         5\n",
            "            GOLD WING WARBLER       1.00      1.00      1.00         5\n",
            "            GOLDEN BOWER BIRD       1.00      0.80      0.89         5\n",
            "       GOLDEN CHEEKED WARBLER       1.00      1.00      1.00         5\n",
            "          GOLDEN CHLOROPHONIA       0.83      1.00      0.91         5\n",
            "                 GOLDEN EAGLE       1.00      1.00      1.00         5\n",
            "              GOLDEN PARAKEET       1.00      1.00      1.00         5\n",
            "              GOLDEN PHEASANT       1.00      1.00      1.00         5\n",
            "                 GOLDEN PIPIT       1.00      1.00      1.00         5\n",
            "               GOULDIAN FINCH       1.00      1.00      1.00         5\n",
            "                     GRANDALA       1.00      0.60      0.75         5\n",
            "                 GRAY CATBIRD       0.62      1.00      0.77         5\n",
            "                GRAY KINGBIRD       0.56      1.00      0.71         5\n",
            "               GRAY PARTRIDGE       0.75      0.60      0.67         5\n",
            "                  GREAT ARGUS       1.00      0.80      0.89         5\n",
            "               GREAT GRAY OWL       1.00      1.00      1.00         5\n",
            "                GREAT JACAMAR       1.00      1.00      1.00         5\n",
            "               GREAT KISKADEE       1.00      1.00      1.00         5\n",
            "                  GREAT POTOO       1.00      0.60      0.75         5\n",
            "                GREAT TINAMOU       0.83      1.00      0.91         5\n",
            "                 GREAT XENOPS       1.00      1.00      1.00         5\n",
            "                GREATER PEWEE       0.80      0.80      0.80         5\n",
            "      GREATER PRAIRIE CHICKEN       1.00      1.00      1.00         5\n",
            "          GREATOR SAGE GROUSE       1.00      1.00      1.00         5\n",
            "              GREEN BROADBILL       1.00      1.00      1.00         5\n",
            "                    GREEN JAY       1.00      1.00      1.00         5\n",
            "                 GREEN MAGPIE       1.00      1.00      1.00         5\n",
            "            GREEN WINGED DOVE       1.00      0.60      0.75         5\n",
            "            GREY CUCKOOSHRIKE       1.00      0.80      0.89         5\n",
            "       GREY HEADED CHACHALACA       0.56      1.00      0.71         5\n",
            "       GREY HEADED FISH EAGLE       1.00      0.80      0.89         5\n",
            "                  GREY PLOVER       1.00      1.00      1.00         5\n",
            "            GROVED BILLED ANI       1.00      1.00      1.00         5\n",
            "                GUINEA TURACO       0.83      1.00      0.91         5\n",
            "                   GUINEAFOWL       1.00      1.00      1.00         5\n",
            "                GURNEYS PITTA       1.00      1.00      1.00         5\n",
            "                    GYRFALCON       1.00      0.40      0.57         5\n",
            "                     HAMERKOP       1.00      1.00      1.00         5\n",
            "               HARLEQUIN DUCK       1.00      1.00      1.00         5\n",
            "              HARLEQUIN QUAIL       1.00      1.00      1.00         5\n",
            "                  HARPY EAGLE       0.83      1.00      0.91         5\n",
            "               HAWAIIAN GOOSE       1.00      1.00      1.00         5\n",
            "                     HAWFINCH       1.00      1.00      1.00         5\n",
            "                 HELMET VANGA       1.00      1.00      1.00         5\n",
            "              HEPATIC TANAGER       1.00      0.80      0.89         5\n",
            "           HIMALAYAN BLUETAIL       0.80      0.80      0.80         5\n",
            "              HIMALAYAN MONAL       1.00      1.00      1.00         5\n",
            "                      HOATZIN       1.00      1.00      1.00         5\n",
            "             HOODED MERGANSER       1.00      1.00      1.00         5\n",
            "                      HOOPOES       1.00      1.00      1.00         5\n",
            "                  HORNED GUAN       1.00      1.00      1.00         5\n",
            "                  HORNED LARK       1.00      1.00      1.00         5\n",
            "                HORNED SUNGEM       1.00      1.00      1.00         5\n",
            "                  HOUSE FINCH       1.00      1.00      1.00         5\n",
            "                HOUSE SPARROW       0.83      1.00      0.91         5\n",
            "               HYACINTH MACAW       0.83      1.00      0.91         5\n",
            "               IBERIAN MAGPIE       1.00      1.00      1.00         5\n",
            "                     IBISBILL       1.00      1.00      1.00         5\n",
            "                IMPERIAL SHAQ       1.00      1.00      1.00         5\n",
            "                    INCA TERN       1.00      1.00      1.00         5\n",
            "               INDIAN BUSTARD       1.00      1.00      1.00         5\n",
            "                 INDIAN PITTA       1.00      1.00      1.00         5\n",
            "                INDIAN ROLLER       1.00      1.00      1.00         5\n",
            "               INDIAN VULTURE       1.00      1.00      1.00         5\n",
            "               INDIGO BUNTING       1.00      1.00      1.00         5\n",
            "            INDIGO FLYCATCHER       0.83      1.00      0.91         5\n",
            "              INLAND DOTTEREL       0.83      1.00      0.91         5\n",
            "         IVORY BILLED ARACARI       1.00      1.00      1.00         5\n",
            "                   IVORY GULL       0.71      1.00      0.83         5\n",
            "                          IWI       1.00      1.00      1.00         5\n",
            "                       JABIRU       1.00      1.00      1.00         5\n",
            "                   JACK SNIPE       1.00      1.00      1.00         5\n",
            "               JACOBIN PIGEON       1.00      1.00      1.00         5\n",
            "             JANDAYA PARAKEET       1.00      1.00      1.00         5\n",
            "               JAPANESE ROBIN       1.00      1.00      1.00         5\n",
            "                 JAVA SPARROW       1.00      1.00      1.00         5\n",
            "            JOCOTOCO ANTPITTA       0.83      1.00      0.91         5\n",
            "                         KAGU       1.00      1.00      1.00         5\n",
            "                       KAKAPO       1.00      1.00      1.00         5\n",
            "                     KILLDEAR       1.00      1.00      1.00         5\n",
            "                   KING EIDER       1.00      1.00      1.00         5\n",
            "                 KING VULTURE       1.00      1.00      1.00         5\n",
            "                         KIWI       1.00      1.00      1.00         5\n",
            "             KNOB BILLED DUCK       1.00      1.00      1.00         5\n",
            "                   KOOKABURRA       1.00      1.00      1.00         5\n",
            "                 LARK BUNTING       0.71      1.00      0.83         5\n",
            "                LAUGHING GULL       1.00      0.60      0.75         5\n",
            "               LAZULI BUNTING       1.00      1.00      1.00         5\n",
            "              LESSER ADJUTANT       1.00      1.00      1.00         5\n",
            "                 LILAC ROLLER       1.00      1.00      1.00         5\n",
            "                      LIMPKIN       1.00      0.80      0.89         5\n",
            "                   LITTLE AUK       1.00      1.00      1.00         5\n",
            "            LOGGERHEAD SHRIKE       0.00      0.00      0.00         5\n",
            "               LONG-EARED OWL       1.00      0.80      0.89         5\n",
            "                 LOONEY BIRDS       1.00      1.00      1.00         5\n",
            "          LUCIFER HUMMINGBIRD       1.00      0.40      0.57         5\n",
            "                 MAGPIE GOOSE       1.00      1.00      1.00         5\n",
            "             MALABAR HORNBILL       0.62      1.00      0.77         5\n",
            "         MALACHITE KINGFISHER       1.00      1.00      1.00         5\n",
            "           MALAGASY WHITE EYE       0.83      1.00      0.91         5\n",
            "                        MALEO       1.00      1.00      1.00         5\n",
            "                 MALLARD DUCK       0.83      1.00      0.91         5\n",
            "                 MANDRIN DUCK       1.00      1.00      1.00         5\n",
            "              MANGROVE CUCKOO       1.00      1.00      1.00         5\n",
            "                MARABOU STORK       1.00      1.00      1.00         5\n",
            "              MASKED BOBWHITE       1.00      0.20      0.33         5\n",
            "                 MASKED BOOBY       0.80      0.80      0.80         5\n",
            "               MASKED LAPWING       1.00      1.00      1.00         5\n",
            "               MCKAYS BUNTING       1.00      0.60      0.75         5\n",
            "                       MERLIN       1.00      1.00      1.00         5\n",
            "             MIKADO  PHEASANT       1.00      1.00      1.00         5\n",
            "               MILITARY MACAW       1.00      1.00      1.00         5\n",
            "                MOURNING DOVE       1.00      1.00      1.00         5\n",
            "                         MYNA       1.00      1.00      1.00         5\n",
            "               NICOBAR PIGEON       1.00      1.00      1.00         5\n",
            "              NOISY FRIARBIRD       1.00      1.00      1.00         5\n",
            "NORTHERN BEARDLESS TYRANNULET       0.67      0.40      0.50         5\n",
            "            NORTHERN CARDINAL       1.00      1.00      1.00         5\n",
            "             NORTHERN FLICKER       0.71      1.00      0.83         5\n",
            "              NORTHERN FULMAR       0.80      0.80      0.80         5\n",
            "              NORTHERN GANNET       1.00      1.00      1.00         5\n",
            "             NORTHERN GOSHAWK       1.00      1.00      1.00         5\n",
            "              NORTHERN JACANA       1.00      0.80      0.89         5\n",
            "         NORTHERN MOCKINGBIRD       1.00      0.60      0.75         5\n",
            "              NORTHERN PARULA       1.00      1.00      1.00         5\n",
            "          NORTHERN RED BISHOP       1.00      1.00      1.00         5\n",
            "            NORTHERN SHOVELER       0.83      1.00      0.91         5\n",
            "             OCELLATED TURKEY       0.83      1.00      0.91         5\n",
            "                      OILBIRD       1.00      1.00      1.00         5\n",
            "                 OKINAWA RAIL       1.00      1.00      1.00         5\n",
            "       ORANGE BREASTED TROGON       1.00      0.80      0.89         5\n",
            "       ORANGE BRESTED BUNTING       1.00      1.00      1.00         5\n",
            "             ORIENTAL BAY OWL       1.00      1.00      1.00         5\n",
            "            ORNATE HAWK EAGLE       1.00      0.80      0.89         5\n",
            "                       OSPREY       1.00      1.00      1.00         5\n",
            "                      OSTRICH       1.00      1.00      1.00         5\n",
            "                     OVENBIRD       0.83      1.00      0.91         5\n",
            "               OYSTER CATCHER       1.00      1.00      1.00         5\n",
            "              PAINTED BUNTING       1.00      1.00      1.00         5\n",
            "                       PALILA       1.00      1.00      1.00         5\n",
            "             PALM NUT VULTURE       1.00      1.00      1.00         5\n",
            "             PARADISE TANAGER       1.00      1.00      1.00         5\n",
            "             PARAKETT  AUKLET       1.00      1.00      1.00         5\n",
            "                  PARUS MAJOR       1.00      1.00      1.00         5\n",
            "      PATAGONIAN SIERRA FINCH       0.71      1.00      0.83         5\n",
            "                      PEACOCK       1.00      1.00      1.00         5\n",
            "             PEREGRINE FALCON       0.83      1.00      0.91         5\n",
            "                  PHAINOPEPLA       1.00      1.00      1.00         5\n",
            "             PHILIPPINE EAGLE       1.00      1.00      1.00         5\n",
            "                   PINK ROBIN       1.00      1.00      1.00         5\n",
            "            PLUSH CRESTED JAY       1.00      1.00      1.00         5\n",
            "              POMARINE JAEGER       0.56      1.00      0.71         5\n",
            "                       PUFFIN       1.00      1.00      1.00         5\n",
            "                    PUNA TEAL       1.00      1.00      1.00         5\n",
            "                 PURPLE FINCH       1.00      1.00      1.00         5\n",
            "             PURPLE GALLINULE       1.00      1.00      1.00         5\n",
            "                PURPLE MARTIN       1.00      1.00      1.00         5\n",
            "              PURPLE SWAMPHEN       1.00      1.00      1.00         5\n",
            "             PYGMY KINGFISHER       1.00      1.00      1.00         5\n",
            "                  PYRRHULOXIA       1.00      1.00      1.00         5\n",
            "                      QUETZAL       1.00      1.00      1.00         5\n",
            "             RAINBOW LORIKEET       1.00      1.00      1.00         5\n",
            "                    RAZORBILL       1.00      1.00      1.00         5\n",
            "        RED BEARDED BEE EATER       1.00      1.00      1.00         5\n",
            "            RED BELLIED PITTA       1.00      0.80      0.89         5\n",
            "        RED BILLED TROPICBIRD       1.00      1.00      1.00         5\n",
            "             RED BROWED FINCH       0.83      1.00      0.91         5\n",
            "                RED CROSSBILL       0.80      0.80      0.80         5\n",
            "          RED FACED CORMORANT       0.83      1.00      0.91         5\n",
            "            RED FACED WARBLER       0.83      1.00      0.91         5\n",
            "                     RED FODY       0.83      1.00      0.91         5\n",
            "              RED HEADED DUCK       1.00      1.00      1.00         5\n",
            "        RED HEADED WOODPECKER       1.00      1.00      1.00         5\n",
            "                     RED KNOT       1.00      0.80      0.89         5\n",
            "      RED LEGGED HONEYCREEPER       1.00      1.00      1.00         5\n",
            "             RED NAPED TROGON       1.00      1.00      1.00         5\n",
            "          RED SHOULDERED HAWK       0.80      0.80      0.80         5\n",
            "              RED TAILED HAWK       0.71      1.00      0.83         5\n",
            "            RED TAILED THRUSH       1.00      1.00      1.00         5\n",
            "         RED WINGED BLACKBIRD       0.50      0.60      0.55         5\n",
            "          RED WISKERED BULBUL       1.00      1.00      1.00         5\n",
            "             REGENT BOWERBIRD       1.00      1.00      1.00         5\n",
            "         RING-NECKED PHEASANT       1.00      1.00      1.00         5\n",
            "                   ROADRUNNER       1.00      1.00      1.00         5\n",
            "                    ROCK DOVE       0.62      1.00      0.77         5\n",
            "       ROSE BREASTED COCKATOO       1.00      1.00      1.00         5\n",
            "       ROSE BREASTED GROSBEAK       1.00      1.00      1.00         5\n",
            "            ROSEATE SPOONBILL       1.00      1.00      1.00         5\n",
            "          ROSY FACED LOVEBIRD       1.00      1.00      1.00         5\n",
            "            ROUGH LEG BUZZARD       1.00      0.60      0.75         5\n",
            "             ROYAL FLYCATCHER       1.00      1.00      1.00         5\n",
            "         RUBY CROWNED KINGLET       1.00      0.80      0.89         5\n",
            "    RUBY THROATED HUMMINGBIRD       1.00      1.00      1.00         5\n",
            "               RUDDY SHELDUCK       1.00      1.00      1.00         5\n",
            "              RUDY KINGFISHER       1.00      1.00      1.00         5\n",
            "            RUFOUS KINGFISHER       1.00      1.00      1.00         5\n",
            "                 RUFOUS TREPE       1.00      1.00      1.00         5\n",
            "                RUFUOS MOTMOT       1.00      1.00      1.00         5\n",
            "              SAMATRAN THRUSH       1.00      0.80      0.89         5\n",
            "                  SAND MARTIN       1.00      1.00      1.00         5\n",
            "               SANDHILL CRANE       1.00      1.00      1.00         5\n",
            "               SATYR TRAGOPAN       1.00      1.00      1.00         5\n",
            "                  SAYS PHOEBE       0.60      0.60      0.60         5\n",
            "   SCARLET CROWNED FRUIT DOVE       0.83      1.00      0.91         5\n",
            "      SCARLET FACED LIOCICHLA       1.00      1.00      1.00         5\n",
            "                 SCARLET IBIS       1.00      1.00      1.00         5\n",
            "                SCARLET MACAW       1.00      1.00      1.00         5\n",
            "              SCARLET TANAGER       1.00      1.00      1.00         5\n",
            "                     SHOEBILL       1.00      1.00      1.00         5\n",
            "       SHORT BILLED DOWITCHER       1.00      1.00      1.00         5\n",
            "              SMITHS LONGSPUR       0.80      0.80      0.80         5\n",
            "                   SNOW GOOSE       1.00      1.00      1.00         5\n",
            "               SNOW PARTRIDGE       0.62      1.00      0.77         5\n",
            "                  SNOWY EGRET       1.00      1.00      1.00         5\n",
            "                    SNOWY OWL       0.71      1.00      0.83         5\n",
            "                 SNOWY PLOVER       1.00      0.40      0.57         5\n",
            "             SNOWY SHEATHBILL       0.83      1.00      0.91         5\n",
            "                         SORA       1.00      1.00      1.00         5\n",
            "             SPANGLED COTINGA       1.00      1.00      1.00         5\n",
            "                SPLENDID WREN       0.83      1.00      0.91         5\n",
            "        SPOON BILED SANDPIPER       1.00      0.80      0.89         5\n",
            "              SPOTTED CATBIRD       0.83      1.00      0.91         5\n",
            "       SPOTTED WHISTLING DUCK       1.00      1.00      1.00         5\n",
            "                SQUACCO HERON       1.00      1.00      1.00         5\n",
            "        SRI LANKA BLUE MAGPIE       1.00      1.00      1.00         5\n",
            "                 STEAMER DUCK       1.00      1.00      1.00         5\n",
            "      STORK BILLED KINGFISHER       1.00      1.00      1.00         5\n",
            "            STRIATED CARACARA       1.00      1.00      1.00         5\n",
            "                  STRIPED OWL       0.83      1.00      0.91         5\n",
            "             STRIPPED MANAKIN       1.00      1.00      1.00         5\n",
            "             STRIPPED SWALLOW       1.00      1.00      1.00         5\n",
            "                   SUNBITTERN       1.00      0.80      0.89         5\n",
            "              SUPERB STARLING       0.83      1.00      0.91         5\n",
            "                  SURF SCOTER       1.00      1.00      1.00         5\n",
            "            SWINHOES PHEASANT       1.00      1.00      1.00         5\n",
            "                   TAILORBIRD       1.00      1.00      1.00         5\n",
            "                TAIWAN MAGPIE       1.00      1.00      1.00         5\n",
            "                       TAKAHE       1.00      1.00      1.00         5\n",
            "                TASMANIAN HEN       0.83      1.00      0.91         5\n",
            "              TAWNY FROGMOUTH       1.00      0.80      0.89         5\n",
            "                    TEAL DUCK       0.62      1.00      0.77         5\n",
            "                    TIT MOUSE       1.00      1.00      1.00         5\n",
            "                      TOUCHAN       1.00      1.00      1.00         5\n",
            "            TOWNSENDS WARBLER       1.00      0.80      0.89         5\n",
            "                 TREE SWALLOW       1.00      1.00      1.00         5\n",
            "         TRICOLORED BLACKBIRD       1.00      0.80      0.89         5\n",
            "            TROPICAL KINGBIRD       1.00      0.40      0.57         5\n",
            "                TRUMPTER SWAN       1.00      1.00      1.00         5\n",
            "               TURKEY VULTURE       1.00      1.00      1.00         5\n",
            "             TURQUOISE MOTMOT       1.00      1.00      1.00         5\n",
            "                UMBRELLA BIRD       1.00      1.00      1.00         5\n",
            "                VARIED THRUSH       0.83      1.00      0.91         5\n",
            "                        VEERY       1.00      0.80      0.89         5\n",
            "         VENEZUELIAN TROUPIAL       0.83      1.00      0.91         5\n",
            "                       VERDIN       1.00      1.00      1.00         5\n",
            "          VERMILION FLYCATHER       1.00      0.80      0.89         5\n",
            "      VICTORIA CROWNED PIGEON       1.00      1.00      1.00         5\n",
            "       VIOLET BACKED STARLING       1.00      0.80      0.89         5\n",
            "                VIOLET CUCKOO       0.80      0.80      0.80         5\n",
            "         VIOLET GREEN SWALLOW       1.00      1.00      1.00         5\n",
            "                VIOLET TURACO       1.00      1.00      1.00         5\n",
            "             VISAYAN HORNBILL       1.00      0.80      0.89         5\n",
            "         VULTURINE GUINEAFOWL       1.00      1.00      1.00         5\n",
            "                 WALL CREAPER       1.00      1.00      1.00         5\n",
            "             WATTLED CURASSOW       1.00      1.00      1.00         5\n",
            "              WATTLED LAPWING       1.00      1.00      1.00         5\n",
            "                     WHIMBREL       1.00      1.00      1.00         5\n",
            "      WHITE BREASTED WATERHEN       1.00      1.00      1.00         5\n",
            "           WHITE BROWED CRAKE       1.00      1.00      1.00         5\n",
            "         WHITE CHEEKED TURACO       1.00      1.00      1.00         5\n",
            "       WHITE CRESTED HORNBILL       1.00      1.00      1.00         5\n",
            "      WHITE EARED HUMMINGBIRD       1.00      1.00      1.00         5\n",
            "           WHITE NECKED RAVEN       1.00      1.00      1.00         5\n",
            "          WHITE TAILED TROPIC       1.00      0.80      0.89         5\n",
            "     WHITE THROATED BEE EATER       1.00      1.00      1.00         5\n",
            "                  WILD TURKEY       1.00      1.00      1.00         5\n",
            "             WILLOW PTARMIGAN       1.00      0.40      0.57         5\n",
            "     WILSONS BIRD OF PARADISE       1.00      1.00      1.00         5\n",
            "                    WOOD DUCK       1.00      1.00      1.00         5\n",
            "                  WOOD THRUSH       0.83      1.00      0.91         5\n",
            "          WOODLAND KINGFISHER       1.00      1.00      1.00         5\n",
            "                      WRENTIT       0.83      1.00      0.91         5\n",
            "  YELLOW BELLIED FLOWERPECKER       1.00      1.00      1.00         5\n",
            "         YELLOW BREASTED CHAT       1.00      0.80      0.89         5\n",
            "               YELLOW CACIQUE       1.00      1.00      1.00         5\n",
            "      YELLOW HEADED BLACKBIRD       1.00      0.80      0.89         5\n",
            "                   ZEBRA DOVE       1.00      1.00      1.00         5\n",
            "\n",
            "                     accuracy                           0.94      2625\n",
            "                    macro avg       0.95      0.94      0.94      2625\n",
            "                 weighted avg       0.95      0.94      0.94      2625\n",
            "\n"
          ]
        },
        {
          "output_type": "stream",
          "name": "stderr",
          "text": [
            "/usr/local/lib/python3.10/dist-packages/sklearn/metrics/_classification.py:1344: UndefinedMetricWarning: Precision and F-score are ill-defined and being set to 0.0 in labels with no predicted samples. Use `zero_division` parameter to control this behavior.\n",
            "  _warn_prf(average, modifier, msg_start, len(result))\n",
            "/usr/local/lib/python3.10/dist-packages/sklearn/metrics/_classification.py:1344: UndefinedMetricWarning: Precision and F-score are ill-defined and being set to 0.0 in labels with no predicted samples. Use `zero_division` parameter to control this behavior.\n",
            "  _warn_prf(average, modifier, msg_start, len(result))\n",
            "/usr/local/lib/python3.10/dist-packages/sklearn/metrics/_classification.py:1344: UndefinedMetricWarning: Precision and F-score are ill-defined and being set to 0.0 in labels with no predicted samples. Use `zero_division` parameter to control this behavior.\n",
            "  _warn_prf(average, modifier, msg_start, len(result))\n"
          ]
        }
      ]
    }
  ]
}